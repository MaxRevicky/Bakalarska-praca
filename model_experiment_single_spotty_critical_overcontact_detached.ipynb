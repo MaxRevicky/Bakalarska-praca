{
 "cells": [
  {
   "cell_type": "markdown",
   "metadata": {},
   "source": [
    "# Automatic classification of eclipsing binary stars using deep learning methods"
   ]
  },
  {
   "cell_type": "markdown",
   "metadata": {},
   "source": [
    "> Vstupne datasety (single_spotty.pkl, overcontact_bellow_i_crit.pkl, detached_bellow_i_crit_10000) boli vytvorene pomocou binaries_single_spotty.ipynb, binaries_overcontact_bellow_i_crit_10000.ipynb, binaries_detached_bellow_i_crit_10000.ipynb"
   ]
  },
  {
   "cell_type": "markdown",
   "metadata": {},
   "source": [
    "Experiment 6\n",
    "\n",
    "\n",
    "- datasety: single spotty (6 853)\n",
    "              overcontact_bellow_i_crit (10 000)\n",
    "              detached_bellow_i_crit (10 000)\n",
    "- vstup do modelu: krivky (BRUVI) spojene do jedneho datasetu\n",
    "- šum: stochastic_noise_generator, curve_alignement\n",
    "- train_test_split: test_size=0.2\n",
    "- výstup modelu: klasifikacia 0 -> single spotty, \n",
    "                            1 -> binary star (overcontact + detached)\n",
    "- evaluácia: krivky (BRUVI) spojene do jedneho datasetu, nad 0.4 -> 1\n",
    "- checkpoint: monitor: val_loss, mode: min\n"
   ]
  },
  {
   "cell_type": "code",
   "execution_count": 1,
   "metadata": {},
   "outputs": [],
   "source": [
    "import numpy as np\n",
    "import pandas as pd\n",
    "import json\n",
    "import pickle\n",
    "np.random.seed(1234)\n",
    "\n",
    "from noise_generator import stochastic_noise_generator\n",
    "from curve_alignement import curve_alignement_randomizer\n",
    "from sklearn.model_selection import train_test_split\n",
    "\n",
    "\n",
    "from keras.utils import np_utils\n",
    "from keras.models import load_model\n",
    "from sklearn.metrics import confusion_matrix, classification_report\n",
    "from sklearn.metrics import precision_recall_fscore_support\n",
    "from sklearn.model_selection import train_test_split\n",
    "\n",
    "from keras.layers import Conv1D, GlobalMaxPooling1D, MaxPooling1D, SpatialDropout1D, GlobalAveragePooling1D\n",
    "from keras.layers import Input, Dense, concatenate, Activation, LSTM, Bidirectional, Flatten, Dropout\n",
    "from keras.models import Model\n",
    "from keras.models import Sequential\n",
    "from keras.layers.merge import Concatenate\n",
    "from tensorflow.keras.callbacks import ModelCheckpoint, EarlyStopping\n",
    "import matplotlib.pyplot as plt\n",
    "\n",
    "import imblearn\n",
    "from imblearn import under_sampling, over_sampling\n",
    "from imblearn.under_sampling import RandomUnderSampler\n",
    "from collections import Counter\n",
    "\n",
    "import scikitplot as skplt"
   ]
  },
  {
   "cell_type": "code",
   "execution_count": 2,
   "metadata": {},
   "outputs": [],
   "source": [
    "# V pripade ak boli chyby s importami, tak je potrebne to spustit (robi sa so zdielanymi prostrediami)\n",
    "\n",
    "# %pip install keras\n",
    "# %pip install elisa\n",
    "# %pip install imblearn\n",
    "# %pip install --upgrade tensorflow\n",
    "# %pip install --upgrade tensorflow-gpu\n",
    "# %pip install scikit-plot"
   ]
  },
  {
   "cell_type": "markdown",
   "metadata": {},
   "source": [
    "## Data load\n",
    "\n",
    "- load synthetic light curve - ELISa\n",
    "- Loads previously prepared data,"
   ]
  },
  {
   "cell_type": "code",
   "execution_count": 3,
   "metadata": {},
   "outputs": [
    {
     "data": {
      "text/html": [
       "<div>\n",
       "<style scoped>\n",
       "    .dataframe tbody tr th:only-of-type {\n",
       "        vertical-align: middle;\n",
       "    }\n",
       "\n",
       "    .dataframe tbody tr th {\n",
       "        vertical-align: top;\n",
       "    }\n",
       "\n",
       "    .dataframe thead th {\n",
       "        text-align: right;\n",
       "    }\n",
       "</style>\n",
       "<table border=\"1\" class=\"dataframe\">\n",
       "  <thead>\n",
       "    <tr style=\"text-align: right;\">\n",
       "      <th></th>\n",
       "      <th>id</th>\n",
       "      <th>Bessell_U</th>\n",
       "      <th>Bessell_B</th>\n",
       "      <th>Bessell_V</th>\n",
       "      <th>Bessell_R</th>\n",
       "      <th>Bessell_I</th>\n",
       "      <th>overcontact</th>\n",
       "    </tr>\n",
       "  </thead>\n",
       "  <tbody>\n",
       "    <tr>\n",
       "      <th>0</th>\n",
       "      <td>1</td>\n",
       "      <td>[0.999723147256461, 0.9998263845312357, 0.9999...</td>\n",
       "      <td>[0.999729147335103, 0.9998341245757354, 0.9999...</td>\n",
       "      <td>[0.9997193606202365, 0.9998297654831404, 0.999...</td>\n",
       "      <td>[0.9997101293497717, 0.9998251315085762, 0.999...</td>\n",
       "      <td>[0.9996999473946334, 0.9998205539859434, 0.999...</td>\n",
       "      <td>0</td>\n",
       "    </tr>\n",
       "  </tbody>\n",
       "</table>\n",
       "</div>"
      ],
      "text/plain": [
       "   id                                          Bessell_U  \\\n",
       "0   1  [0.999723147256461, 0.9998263845312357, 0.9999...   \n",
       "\n",
       "                                           Bessell_B  \\\n",
       "0  [0.999729147335103, 0.9998341245757354, 0.9999...   \n",
       "\n",
       "                                           Bessell_V  \\\n",
       "0  [0.9997193606202365, 0.9998297654831404, 0.999...   \n",
       "\n",
       "                                           Bessell_R  \\\n",
       "0  [0.9997101293497717, 0.9998251315085762, 0.999...   \n",
       "\n",
       "                                           Bessell_I  overcontact  \n",
       "0  [0.9996999473946334, 0.9998205539859434, 0.999...            0  "
      ]
     },
     "execution_count": 3,
     "metadata": {},
     "output_type": "execute_result"
    }
   ],
   "source": [
    "data_single_spotty_0 = pd.read_pickle(\"single_spotty.pkl\")\n",
    "data_single_spotty_0.head(1)"
   ]
  },
  {
   "cell_type": "code",
   "execution_count": 4,
   "metadata": {},
   "outputs": [
    {
     "data": {
      "text/html": [
       "<div>\n",
       "<style scoped>\n",
       "    .dataframe tbody tr th:only-of-type {\n",
       "        vertical-align: middle;\n",
       "    }\n",
       "\n",
       "    .dataframe tbody tr th {\n",
       "        vertical-align: top;\n",
       "    }\n",
       "\n",
       "    .dataframe thead th {\n",
       "        text-align: right;\n",
       "    }\n",
       "</style>\n",
       "<table border=\"1\" class=\"dataframe\">\n",
       "  <thead>\n",
       "    <tr style=\"text-align: right;\">\n",
       "      <th></th>\n",
       "      <th>id</th>\n",
       "      <th>Bessell_U</th>\n",
       "      <th>Bessell_B</th>\n",
       "      <th>Bessell_V</th>\n",
       "      <th>Bessell_R</th>\n",
       "      <th>Bessell_I</th>\n",
       "      <th>overcontact</th>\n",
       "    </tr>\n",
       "  </thead>\n",
       "  <tbody>\n",
       "    <tr>\n",
       "      <th>0</th>\n",
       "      <td>5523148</td>\n",
       "      <td>[1.0, 0.9999997307325279, 0.9999993208745404, ...</td>\n",
       "      <td>[1.0, 0.9999997333725458, 0.9999993854857628, ...</td>\n",
       "      <td>[1.0, 0.9999997522458502, 0.9999994904106757, ...</td>\n",
       "      <td>[1.0, 0.9999997580790063, 0.9999995484215244, ...</td>\n",
       "      <td>[1.0, 0.9999997080162979, 0.9999995299493861, ...</td>\n",
       "      <td>1</td>\n",
       "    </tr>\n",
       "  </tbody>\n",
       "</table>\n",
       "</div>"
      ],
      "text/plain": [
       "        id                                          Bessell_U  \\\n",
       "0  5523148  [1.0, 0.9999997307325279, 0.9999993208745404, ...   \n",
       "\n",
       "                                           Bessell_B  \\\n",
       "0  [1.0, 0.9999997333725458, 0.9999993854857628, ...   \n",
       "\n",
       "                                           Bessell_V  \\\n",
       "0  [1.0, 0.9999997522458502, 0.9999994904106757, ...   \n",
       "\n",
       "                                           Bessell_R  \\\n",
       "0  [1.0, 0.9999997580790063, 0.9999995484215244, ...   \n",
       "\n",
       "                                           Bessell_I  overcontact  \n",
       "0  [1.0, 0.9999997080162979, 0.9999995299493861, ...            1  "
      ]
     },
     "execution_count": 4,
     "metadata": {},
     "output_type": "execute_result"
    }
   ],
   "source": [
    "data_overcontact_1 = pd.read_pickle(\"overcontact_bellow_i_crit.pkl\")\n",
    "data_overcontact_1.head(1)"
   ]
  },
  {
   "cell_type": "code",
   "execution_count": 5,
   "metadata": {},
   "outputs": [
    {
     "data": {
      "text/html": [
       "<div>\n",
       "<style scoped>\n",
       "    .dataframe tbody tr th:only-of-type {\n",
       "        vertical-align: middle;\n",
       "    }\n",
       "\n",
       "    .dataframe tbody tr th {\n",
       "        vertical-align: top;\n",
       "    }\n",
       "\n",
       "    .dataframe thead th {\n",
       "        text-align: right;\n",
       "    }\n",
       "</style>\n",
       "<table border=\"1\" class=\"dataframe\">\n",
       "  <thead>\n",
       "    <tr style=\"text-align: right;\">\n",
       "      <th></th>\n",
       "      <th>id</th>\n",
       "      <th>Bessell_U</th>\n",
       "      <th>Bessell_B</th>\n",
       "      <th>Bessell_V</th>\n",
       "      <th>Bessell_R</th>\n",
       "      <th>Bessell_I</th>\n",
       "      <th>overcontact</th>\n",
       "    </tr>\n",
       "  </thead>\n",
       "  <tbody>\n",
       "    <tr>\n",
       "      <th>0</th>\n",
       "      <td>16475486</td>\n",
       "      <td>[0.9725785101533405, 0.9725670857905166, 0.972...</td>\n",
       "      <td>[0.9492919880946644, 0.9492817827705917, 0.949...</td>\n",
       "      <td>[0.9453769164275371, 0.9453675090288542, 0.945...</td>\n",
       "      <td>[0.9471419755249144, 0.9471329680009939, 0.947...</td>\n",
       "      <td>[0.9493361170990322, 0.9493283389169975, 0.949...</td>\n",
       "      <td>1</td>\n",
       "    </tr>\n",
       "  </tbody>\n",
       "</table>\n",
       "</div>"
      ],
      "text/plain": [
       "         id                                          Bessell_U  \\\n",
       "0  16475486  [0.9725785101533405, 0.9725670857905166, 0.972...   \n",
       "\n",
       "                                           Bessell_B  \\\n",
       "0  [0.9492919880946644, 0.9492817827705917, 0.949...   \n",
       "\n",
       "                                           Bessell_V  \\\n",
       "0  [0.9453769164275371, 0.9453675090288542, 0.945...   \n",
       "\n",
       "                                           Bessell_R  \\\n",
       "0  [0.9471419755249144, 0.9471329680009939, 0.947...   \n",
       "\n",
       "                                           Bessell_I  overcontact  \n",
       "0  [0.9493361170990322, 0.9493283389169975, 0.949...            1  "
      ]
     },
     "execution_count": 5,
     "metadata": {},
     "output_type": "execute_result"
    }
   ],
   "source": [
    "data_detached_1 = pd.read_pickle(\"detached_bellow_i_crit_10000.pkl\")\n",
    "data_detached_1['overcontact'].values[:] = 1\n",
    "data_detached_1.head(1)"
   ]
  },
  {
   "cell_type": "code",
   "execution_count": 6,
   "metadata": {},
   "outputs": [],
   "source": [
    "data_overcontact_1 = data_overcontact_1.sample(n = 10000, random_state=123)"
   ]
  },
  {
   "cell_type": "code",
   "execution_count": 7,
   "metadata": {},
   "outputs": [
    {
     "data": {
      "text/html": [
       "<div>\n",
       "<style scoped>\n",
       "    .dataframe tbody tr th:only-of-type {\n",
       "        vertical-align: middle;\n",
       "    }\n",
       "\n",
       "    .dataframe tbody tr th {\n",
       "        vertical-align: top;\n",
       "    }\n",
       "\n",
       "    .dataframe thead th {\n",
       "        text-align: right;\n",
       "    }\n",
       "</style>\n",
       "<table border=\"1\" class=\"dataframe\">\n",
       "  <thead>\n",
       "    <tr style=\"text-align: right;\">\n",
       "      <th></th>\n",
       "      <th>id</th>\n",
       "      <th>Bessell_U</th>\n",
       "      <th>Bessell_B</th>\n",
       "      <th>Bessell_V</th>\n",
       "      <th>Bessell_R</th>\n",
       "      <th>Bessell_I</th>\n",
       "      <th>overcontact</th>\n",
       "    </tr>\n",
       "  </thead>\n",
       "  <tbody>\n",
       "    <tr>\n",
       "      <th>37323</th>\n",
       "      <td>63727918</td>\n",
       "      <td>[0.8496147144074915, 0.8496480809117025, 0.849...</td>\n",
       "      <td>[0.8513613644692577, 0.8513939929255343, 0.851...</td>\n",
       "      <td>[0.86186395266733, 0.8618923229018682, 0.86198...</td>\n",
       "      <td>[0.8674806339484662, 0.8675066927985281, 0.867...</td>\n",
       "      <td>[0.8731602566876797, 0.8731839445156725, 0.873...</td>\n",
       "      <td>1</td>\n",
       "    </tr>\n",
       "    <tr>\n",
       "      <th>45861</th>\n",
       "      <td>71164710</td>\n",
       "      <td>[0.8682432495086728, 0.8682712691426288, 0.868...</td>\n",
       "      <td>[0.8624249332014946, 0.8624549209771928, 0.862...</td>\n",
       "      <td>[0.8703230212194507, 0.8703501643057973, 0.870...</td>\n",
       "      <td>[0.8766116052401189, 0.8766365165424321, 0.876...</td>\n",
       "      <td>[0.8838795097697446, 0.8839019033442411, 0.883...</td>\n",
       "      <td>1</td>\n",
       "    </tr>\n",
       "    <tr>\n",
       "      <th>26272</th>\n",
       "      <td>49705868</td>\n",
       "      <td>[0.995664982202667, 0.9956659797301951, 0.9956...</td>\n",
       "      <td>[0.9958972464717006, 0.9958981080884609, 0.995...</td>\n",
       "      <td>[0.9963357952754733, 0.9963364856754854, 0.996...</td>\n",
       "      <td>[0.9966921515158839, 0.9966927158074816, 0.996...</td>\n",
       "      <td>[0.9969371014117936, 0.9969375470471336, 0.996...</td>\n",
       "      <td>1</td>\n",
       "    </tr>\n",
       "    <tr>\n",
       "      <th>39847</th>\n",
       "      <td>64366719</td>\n",
       "      <td>[0.8016853955793815, 0.8017402516556926, 0.801...</td>\n",
       "      <td>[0.7963095256253208, 0.7963652946421432, 0.796...</td>\n",
       "      <td>[0.8045022381555672, 0.8045566751288011, 0.804...</td>\n",
       "      <td>[0.8124582197781418, 0.8125115043340678, 0.812...</td>\n",
       "      <td>[0.8228323004538204, 0.822884001684067, 0.8230...</td>\n",
       "      <td>1</td>\n",
       "    </tr>\n",
       "    <tr>\n",
       "      <th>3348</th>\n",
       "      <td>12746829</td>\n",
       "      <td>[0.860564709506529, 0.8605940814813549, 0.8606...</td>\n",
       "      <td>[0.8723296647423305, 0.8723559140101012, 0.872...</td>\n",
       "      <td>[0.8831341620809866, 0.8831579342429802, 0.883...</td>\n",
       "      <td>[0.8894875426286579, 0.8895100914788445, 0.889...</td>\n",
       "      <td>[0.8959685845516996, 0.8959898825241, 0.896054...</td>\n",
       "      <td>1</td>\n",
       "    </tr>\n",
       "    <tr>\n",
       "      <th>43679</th>\n",
       "      <td>70734573</td>\n",
       "      <td>[0.6928170188138121, 0.6929100423017178, 0.693...</td>\n",
       "      <td>[0.6984349511086686, 0.6985284454810091, 0.698...</td>\n",
       "      <td>[0.7127118392888472, 0.7128077538411635, 0.713...</td>\n",
       "      <td>[0.7241150624987043, 0.7242116913431497, 0.724...</td>\n",
       "      <td>[0.7515828922567859, 0.7516770841437277, 0.751...</td>\n",
       "      <td>1</td>\n",
       "    </tr>\n",
       "    <tr>\n",
       "      <th>11641</th>\n",
       "      <td>33987146</td>\n",
       "      <td>[0.947275521517375, 0.9472892225697008, 0.9473...</td>\n",
       "      <td>[0.9461400030185586, 0.9461553762089685, 0.946...</td>\n",
       "      <td>[0.9467239952769816, 0.94674209440269, 0.94678...</td>\n",
       "      <td>[0.9476970565394248, 0.947716979898178, 0.9477...</td>\n",
       "      <td>[0.9502351795043076, 0.9502572711815299, 0.950...</td>\n",
       "      <td>1</td>\n",
       "    </tr>\n",
       "    <tr>\n",
       "      <th>39984</th>\n",
       "      <td>64574178</td>\n",
       "      <td>[0.7615939373746348, 0.7616498591291624, 0.761...</td>\n",
       "      <td>[0.7633440113954898, 0.763399974838947, 0.7635...</td>\n",
       "      <td>[0.7796763341091232, 0.7797301738573585, 0.779...</td>\n",
       "      <td>[0.7905655377074924, 0.7906177150147418, 0.790...</td>\n",
       "      <td>[0.8128274881043589, 0.8128746998750678, 0.813...</td>\n",
       "      <td>1</td>\n",
       "    </tr>\n",
       "    <tr>\n",
       "      <th>37622</th>\n",
       "      <td>63730196</td>\n",
       "      <td>[0.9886329741296338, 0.9886361985326815, 0.988...</td>\n",
       "      <td>[0.9876852470442434, 0.9876886138004548, 0.987...</td>\n",
       "      <td>[0.9881627006029201, 0.9881659830405556, 0.988...</td>\n",
       "      <td>[0.988699927347837, 0.9887031236147049, 0.9887...</td>\n",
       "      <td>[0.98936830304316, 0.9893713857254326, 0.98937...</td>\n",
       "      <td>1</td>\n",
       "    </tr>\n",
       "    <tr>\n",
       "      <th>16716</th>\n",
       "      <td>41213424</td>\n",
       "      <td>[0.783122894260451, 0.7831914242755483, 0.7833...</td>\n",
       "      <td>[0.7757129466849731, 0.7757836087191429, 0.775...</td>\n",
       "      <td>[0.7892886661954656, 0.7893562754761582, 0.789...</td>\n",
       "      <td>[0.7978703809962698, 0.7979360138788693, 0.798...</td>\n",
       "      <td>[0.8072209053982318, 0.8072845100270818, 0.807...</td>\n",
       "      <td>1</td>\n",
       "    </tr>\n",
       "  </tbody>\n",
       "</table>\n",
       "</div>"
      ],
      "text/plain": [
       "             id                                          Bessell_U  \\\n",
       "37323  63727918  [0.8496147144074915, 0.8496480809117025, 0.849...   \n",
       "45861  71164710  [0.8682432495086728, 0.8682712691426288, 0.868...   \n",
       "26272  49705868  [0.995664982202667, 0.9956659797301951, 0.9956...   \n",
       "39847  64366719  [0.8016853955793815, 0.8017402516556926, 0.801...   \n",
       "3348   12746829  [0.860564709506529, 0.8605940814813549, 0.8606...   \n",
       "43679  70734573  [0.6928170188138121, 0.6929100423017178, 0.693...   \n",
       "11641  33987146  [0.947275521517375, 0.9472892225697008, 0.9473...   \n",
       "39984  64574178  [0.7615939373746348, 0.7616498591291624, 0.761...   \n",
       "37622  63730196  [0.9886329741296338, 0.9886361985326815, 0.988...   \n",
       "16716  41213424  [0.783122894260451, 0.7831914242755483, 0.7833...   \n",
       "\n",
       "                                               Bessell_B  \\\n",
       "37323  [0.8513613644692577, 0.8513939929255343, 0.851...   \n",
       "45861  [0.8624249332014946, 0.8624549209771928, 0.862...   \n",
       "26272  [0.9958972464717006, 0.9958981080884609, 0.995...   \n",
       "39847  [0.7963095256253208, 0.7963652946421432, 0.796...   \n",
       "3348   [0.8723296647423305, 0.8723559140101012, 0.872...   \n",
       "43679  [0.6984349511086686, 0.6985284454810091, 0.698...   \n",
       "11641  [0.9461400030185586, 0.9461553762089685, 0.946...   \n",
       "39984  [0.7633440113954898, 0.763399974838947, 0.7635...   \n",
       "37622  [0.9876852470442434, 0.9876886138004548, 0.987...   \n",
       "16716  [0.7757129466849731, 0.7757836087191429, 0.775...   \n",
       "\n",
       "                                               Bessell_V  \\\n",
       "37323  [0.86186395266733, 0.8618923229018682, 0.86198...   \n",
       "45861  [0.8703230212194507, 0.8703501643057973, 0.870...   \n",
       "26272  [0.9963357952754733, 0.9963364856754854, 0.996...   \n",
       "39847  [0.8045022381555672, 0.8045566751288011, 0.804...   \n",
       "3348   [0.8831341620809866, 0.8831579342429802, 0.883...   \n",
       "43679  [0.7127118392888472, 0.7128077538411635, 0.713...   \n",
       "11641  [0.9467239952769816, 0.94674209440269, 0.94678...   \n",
       "39984  [0.7796763341091232, 0.7797301738573585, 0.779...   \n",
       "37622  [0.9881627006029201, 0.9881659830405556, 0.988...   \n",
       "16716  [0.7892886661954656, 0.7893562754761582, 0.789...   \n",
       "\n",
       "                                               Bessell_R  \\\n",
       "37323  [0.8674806339484662, 0.8675066927985281, 0.867...   \n",
       "45861  [0.8766116052401189, 0.8766365165424321, 0.876...   \n",
       "26272  [0.9966921515158839, 0.9966927158074816, 0.996...   \n",
       "39847  [0.8124582197781418, 0.8125115043340678, 0.812...   \n",
       "3348   [0.8894875426286579, 0.8895100914788445, 0.889...   \n",
       "43679  [0.7241150624987043, 0.7242116913431497, 0.724...   \n",
       "11641  [0.9476970565394248, 0.947716979898178, 0.9477...   \n",
       "39984  [0.7905655377074924, 0.7906177150147418, 0.790...   \n",
       "37622  [0.988699927347837, 0.9887031236147049, 0.9887...   \n",
       "16716  [0.7978703809962698, 0.7979360138788693, 0.798...   \n",
       "\n",
       "                                               Bessell_I  overcontact  \n",
       "37323  [0.8731602566876797, 0.8731839445156725, 0.873...            1  \n",
       "45861  [0.8838795097697446, 0.8839019033442411, 0.883...            1  \n",
       "26272  [0.9969371014117936, 0.9969375470471336, 0.996...            1  \n",
       "39847  [0.8228323004538204, 0.822884001684067, 0.8230...            1  \n",
       "3348   [0.8959685845516996, 0.8959898825241, 0.896054...            1  \n",
       "43679  [0.7515828922567859, 0.7516770841437277, 0.751...            1  \n",
       "11641  [0.9502351795043076, 0.9502572711815299, 0.950...            1  \n",
       "39984  [0.8128274881043589, 0.8128746998750678, 0.813...            1  \n",
       "37622  [0.98936830304316, 0.9893713857254326, 0.98937...            1  \n",
       "16716  [0.8072209053982318, 0.8072845100270818, 0.807...            1  "
      ]
     },
     "execution_count": 7,
     "metadata": {},
     "output_type": "execute_result"
    }
   ],
   "source": [
    "data_overcontact_1.head(10)"
   ]
  },
  {
   "cell_type": "code",
   "execution_count": 8,
   "metadata": {},
   "outputs": [],
   "source": [
    "data_overcontact_1= pd.DataFrame(curve_alignement_randomizer(data_overcontact_1), \n",
    "                                 columns=['id', 'Bessell_U',  'Bessell_B',  'Bessell_V',  'Bessell_R',  'Bessell_I',  'overcontact'])"
   ]
  },
  {
   "cell_type": "code",
   "execution_count": 9,
   "metadata": {},
   "outputs": [],
   "source": [
    "data_detached_1= pd.DataFrame(curve_alignement_randomizer(data_overcontact_1), \n",
    "                                 columns=['id', 'Bessell_U',  'Bessell_B',  'Bessell_V',  'Bessell_R',  'Bessell_I',  'overcontact'])"
   ]
  },
  {
   "cell_type": "code",
   "execution_count": 10,
   "metadata": {},
   "outputs": [
    {
     "data": {
      "text/html": [
       "<div>\n",
       "<style scoped>\n",
       "    .dataframe tbody tr th:only-of-type {\n",
       "        vertical-align: middle;\n",
       "    }\n",
       "\n",
       "    .dataframe tbody tr th {\n",
       "        vertical-align: top;\n",
       "    }\n",
       "\n",
       "    .dataframe thead th {\n",
       "        text-align: right;\n",
       "    }\n",
       "</style>\n",
       "<table border=\"1\" class=\"dataframe\">\n",
       "  <thead>\n",
       "    <tr style=\"text-align: right;\">\n",
       "      <th></th>\n",
       "      <th>id</th>\n",
       "      <th>Bessell_U</th>\n",
       "      <th>Bessell_B</th>\n",
       "      <th>Bessell_V</th>\n",
       "      <th>Bessell_R</th>\n",
       "      <th>Bessell_I</th>\n",
       "      <th>overcontact</th>\n",
       "    </tr>\n",
       "  </thead>\n",
       "  <tbody>\n",
       "    <tr>\n",
       "      <th>0</th>\n",
       "      <td>1</td>\n",
       "      <td>[0.999723147256461, 0.9998263845312357, 0.9999...</td>\n",
       "      <td>[0.999729147335103, 0.9998341245757354, 0.9999...</td>\n",
       "      <td>[0.9997193606202365, 0.9998297654831404, 0.999...</td>\n",
       "      <td>[0.9997101293497717, 0.9998251315085762, 0.999...</td>\n",
       "      <td>[0.9996999473946334, 0.9998205539859434, 0.999...</td>\n",
       "      <td>0</td>\n",
       "    </tr>\n",
       "    <tr>\n",
       "      <th>1</th>\n",
       "      <td>2</td>\n",
       "      <td>[0.999723147256461, 0.9998263845312357, 0.9999...</td>\n",
       "      <td>[0.999729147335103, 0.9998341245757354, 0.9999...</td>\n",
       "      <td>[0.9997193606202365, 0.9998297654831404, 0.999...</td>\n",
       "      <td>[0.9997101293497717, 0.9998251315085762, 0.999...</td>\n",
       "      <td>[0.9996999473946334, 0.9998205539859434, 0.999...</td>\n",
       "      <td>0</td>\n",
       "    </tr>\n",
       "  </tbody>\n",
       "</table>\n",
       "</div>"
      ],
      "text/plain": [
       "  id                                          Bessell_U  \\\n",
       "0  1  [0.999723147256461, 0.9998263845312357, 0.9999...   \n",
       "1  2  [0.999723147256461, 0.9998263845312357, 0.9999...   \n",
       "\n",
       "                                           Bessell_B  \\\n",
       "0  [0.999729147335103, 0.9998341245757354, 0.9999...   \n",
       "1  [0.999729147335103, 0.9998341245757354, 0.9999...   \n",
       "\n",
       "                                           Bessell_V  \\\n",
       "0  [0.9997193606202365, 0.9998297654831404, 0.999...   \n",
       "1  [0.9997193606202365, 0.9998297654831404, 0.999...   \n",
       "\n",
       "                                           Bessell_R  \\\n",
       "0  [0.9997101293497717, 0.9998251315085762, 0.999...   \n",
       "1  [0.9997101293497717, 0.9998251315085762, 0.999...   \n",
       "\n",
       "                                           Bessell_I overcontact  \n",
       "0  [0.9996999473946334, 0.9998205539859434, 0.999...           0  \n",
       "1  [0.9996999473946334, 0.9998205539859434, 0.999...           0  "
      ]
     },
     "execution_count": 10,
     "metadata": {},
     "output_type": "execute_result"
    }
   ],
   "source": [
    "data = pd.concat([data_single_spotty_0, data_overcontact_1, data_detached_1])\n",
    "data.head(2)"
   ]
  },
  {
   "cell_type": "code",
   "execution_count": 11,
   "metadata": {},
   "outputs": [
    {
     "data": {
      "text/html": [
       "<div>\n",
       "<style scoped>\n",
       "    .dataframe tbody tr th:only-of-type {\n",
       "        vertical-align: middle;\n",
       "    }\n",
       "\n",
       "    .dataframe tbody tr th {\n",
       "        vertical-align: top;\n",
       "    }\n",
       "\n",
       "    .dataframe thead th {\n",
       "        text-align: right;\n",
       "    }\n",
       "</style>\n",
       "<table border=\"1\" class=\"dataframe\">\n",
       "  <thead>\n",
       "    <tr style=\"text-align: right;\">\n",
       "      <th></th>\n",
       "      <th>id</th>\n",
       "      <th>Bessell_U</th>\n",
       "      <th>Bessell_B</th>\n",
       "      <th>Bessell_V</th>\n",
       "      <th>Bessell_R</th>\n",
       "      <th>Bessell_I</th>\n",
       "      <th>overcontact</th>\n",
       "    </tr>\n",
       "  </thead>\n",
       "  <tbody>\n",
       "    <tr>\n",
       "      <th>9998</th>\n",
       "      <td>56929884</td>\n",
       "      <td>[0.8057866175789103, 0.8058286046255967, 0.805...</td>\n",
       "      <td>[0.8151740714714587, 0.8152120540702733, 0.815...</td>\n",
       "      <td>[0.8303655260065497, 0.8303968118544228, 0.830...</td>\n",
       "      <td>[0.8382249515195537, 0.838252716593947, 0.8383...</td>\n",
       "      <td>[0.8460589836812665, 0.8460832443110399, 0.846...</td>\n",
       "      <td>1</td>\n",
       "    </tr>\n",
       "    <tr>\n",
       "      <th>9999</th>\n",
       "      <td>42058203</td>\n",
       "      <td>[0.8851616170852903, 0.885188975515422, 0.8852...</td>\n",
       "      <td>[0.8827427103881559, 0.8827705805121983, 0.882...</td>\n",
       "      <td>[0.8886051667272032, 0.8886328499002399, 0.888...</td>\n",
       "      <td>[0.8933496955222048, 0.8933769815273436, 0.893...</td>\n",
       "      <td>[0.9067108251193662, 0.906736094549957, 0.9068...</td>\n",
       "      <td>1</td>\n",
       "    </tr>\n",
       "  </tbody>\n",
       "</table>\n",
       "</div>"
      ],
      "text/plain": [
       "            id                                          Bessell_U  \\\n",
       "9998  56929884  [0.8057866175789103, 0.8058286046255967, 0.805...   \n",
       "9999  42058203  [0.8851616170852903, 0.885188975515422, 0.8852...   \n",
       "\n",
       "                                              Bessell_B  \\\n",
       "9998  [0.8151740714714587, 0.8152120540702733, 0.815...   \n",
       "9999  [0.8827427103881559, 0.8827705805121983, 0.882...   \n",
       "\n",
       "                                              Bessell_V  \\\n",
       "9998  [0.8303655260065497, 0.8303968118544228, 0.830...   \n",
       "9999  [0.8886051667272032, 0.8886328499002399, 0.888...   \n",
       "\n",
       "                                              Bessell_R  \\\n",
       "9998  [0.8382249515195537, 0.838252716593947, 0.8383...   \n",
       "9999  [0.8933496955222048, 0.8933769815273436, 0.893...   \n",
       "\n",
       "                                              Bessell_I overcontact  \n",
       "9998  [0.8460589836812665, 0.8460832443110399, 0.846...           1  \n",
       "9999  [0.9067108251193662, 0.906736094549957, 0.9068...           1  "
      ]
     },
     "execution_count": 11,
     "metadata": {},
     "output_type": "execute_result"
    }
   ],
   "source": [
    "data.tail(2)"
   ]
  },
  {
   "cell_type": "markdown",
   "metadata": {},
   "source": [
    "### Check data "
   ]
  },
  {
   "cell_type": "code",
   "execution_count": 12,
   "metadata": {},
   "outputs": [],
   "source": [
    "\n",
    "data[\"id\"] = data[\"id\"].astype(int)\n",
    "data[\"overcontact\"] = data[\"overcontact\"].astype(int)"
   ]
  },
  {
   "cell_type": "code",
   "execution_count": 13,
   "metadata": {},
   "outputs": [
    {
     "data": {
      "text/plain": [
       "id              int64\n",
       "Bessell_U      object\n",
       "Bessell_B      object\n",
       "Bessell_V      object\n",
       "Bessell_R      object\n",
       "Bessell_I      object\n",
       "overcontact     int64\n",
       "dtype: object"
      ]
     },
     "execution_count": 13,
     "metadata": {},
     "output_type": "execute_result"
    }
   ],
   "source": [
    "data.dtypes"
   ]
  },
  {
   "cell_type": "code",
   "execution_count": 14,
   "metadata": {},
   "outputs": [
    {
     "data": {
      "text/plain": [
       "1    20000\n",
       "0     6853\n",
       "Name: overcontact, dtype: int64"
      ]
     },
     "execution_count": 14,
     "metadata": {},
     "output_type": "execute_result"
    }
   ],
   "source": [
    "data['overcontact'].value_counts()"
   ]
  },
  {
   "cell_type": "markdown",
   "metadata": {},
   "source": [
    "## Data preparation\n",
    "- train_test_split\n",
    "- bessel_to_array -> comma seperated string transforms to array\n",
    "- add noice to train and test sets\n",
    "> musi to byt v tomto poradi lebo ked sa aplikuje noice tak uz nejde urobit train_test_split"
   ]
  },
  {
   "cell_type": "code",
   "execution_count": 15,
   "metadata": {},
   "outputs": [
    {
     "name": "stdout",
     "output_type": "stream",
     "text": [
      "(21482, 7)\n",
      "########\n",
      "8912    1\n",
      "1966    0\n",
      "4088    1\n",
      "628     1\n",
      "3213    0\n",
      "       ..\n",
      "4722    1\n",
      "5390    0\n",
      "860     0\n",
      "8942    1\n",
      "6801    1\n",
      "Name: overcontact, Length: 21482, dtype: int64\n",
      "########\n",
      "(5371, 7)\n",
      "########\n",
      "3136    1\n",
      "2240    0\n",
      "5454    1\n",
      "3096    0\n",
      "988     1\n",
      "       ..\n",
      "2857    1\n",
      "1321    1\n",
      "6529    1\n",
      "7028    1\n",
      "41      0\n",
      "Name: overcontact, Length: 5371, dtype: int64\n",
      "########\n"
     ]
    }
   ],
   "source": [
    "X_train, X_test, y_train, y_test = train_test_split(data, data['overcontact'], test_size=0.2, random_state=42)\n",
    "\n",
    "# Check shapes after split\n",
    "print(X_train.shape)\n",
    "print(\"########\")\n",
    "print(y_train)\n",
    "print(\"########\")\n",
    "print(X_test.shape)\n",
    "print(\"########\")\n",
    "print(y_test)\n",
    "print(\"########\")"
   ]
  },
  {
   "cell_type": "code",
   "execution_count": 16,
   "metadata": {},
   "outputs": [],
   "source": [
    "def bessel_to_array(column_name, df):\n",
    "    \"\"\"Model expects array input. \n",
    "    This function transforms all curves in 1 column (400 comma seperated numbers) to array\"\"\"\n",
    "    newData_bessell = []\n",
    "    for row in df[column_name]:\n",
    "        newRow = []\n",
    "        for valueIndex in range(len(row)):\n",
    "            print([row[valueIndex]])\n",
    "            newRow.append([row[valueIndex]])\n",
    "        newData_bessell.append(newRow) \n",
    "    newData_bessell = np.array(newData_bessell)\n",
    "    return newData_bessell"
   ]
  },
  {
   "cell_type": "code",
   "execution_count": 17,
   "metadata": {},
   "outputs": [
    {
     "name": "stdout",
     "output_type": "stream",
     "text": [
      "Bessell_U prossessed\n",
      "Bessell_B prossessed\n",
      "Bessell_V prossessed\n",
      "Bessell_R prossessed\n",
      "Bessell_I prossessed\n"
     ]
    }
   ],
   "source": [
    "X_train_with_arrays_noise = []\n",
    "for column in ['Bessell_U','Bessell_B','Bessell_V','Bessell_R','Bessell_I']:\n",
    "    X_train_with_arrays_noise.append(stochastic_noise_generator(bessel_to_array(column, X_train)))\n",
    "    print(column + \" \" + \"prossessed\")"
   ]
  },
  {
   "cell_type": "code",
   "execution_count": 18,
   "metadata": {},
   "outputs": [
    {
     "name": "stdout",
     "output_type": "stream",
     "text": [
      "Bessell_U prossessed\n",
      "Bessell_B prossessed\n",
      "Bessell_V prossessed\n",
      "Bessell_R prossessed\n",
      "Bessell_I prossessed\n"
     ]
    }
   ],
   "source": [
    "X_test_with_arrays_noise = []\n",
    "for column in ['Bessell_U','Bessell_B','Bessell_V','Bessell_R','Bessell_I']:\n",
    "    X_test_with_arrays_noise.append(stochastic_noise_generator(bessel_to_array(column, X_test)))\n",
    "    print(column + \" \" + \"prossessed\")"
   ]
  },
  {
   "cell_type": "code",
   "execution_count": 19,
   "metadata": {},
   "outputs": [
    {
     "name": "stdout",
     "output_type": "stream",
     "text": [
      "(5, 2, 21482, 400, 1)\n",
      "(5, 2, 5371, 400, 1)\n"
     ]
    }
   ],
   "source": [
    "# (5, 2, 16000, 400, 1) -> meaning: \n",
    "# 5 - UBVRI\n",
    "# 16000 - number of curves\n",
    "# 400 - size of 1 curve\n",
    "# 1 - detached or overcontact\n",
    "\n",
    "print(np.array(X_train_with_arrays_noise).shape)\n",
    "print(np.array(X_test_with_arrays_noise).shape)"
   ]
  },
  {
   "cell_type": "code",
   "execution_count": 20,
   "metadata": {},
   "outputs": [
    {
     "data": {
      "text/plain": [
       "[<matplotlib.lines.Line2D at 0x7f072937e700>]"
      ]
     },
     "execution_count": 20,
     "metadata": {},
     "output_type": "execute_result"
    },
    {
     "data": {
      "image/png": "[encoded data removed]",
      "text/plain": [
       "<Figure size 432x288 with 1 Axes>"
      ]
     },
     "metadata": {
      "needs_background": "light"
     },
     "output_type": "display_data"
    }
   ],
   "source": [
    "# Check if noice was added successfully\n",
    "plt.plot(X_train_with_arrays_noise[1][0][1500])"
   ]
  },
  {
   "cell_type": "code",
   "execution_count": 21,
   "metadata": {},
   "outputs": [
    {
     "name": "stdout",
     "output_type": "stream",
     "text": [
      "False\n",
      "False\n",
      "False\n",
      "False\n"
     ]
    }
   ],
   "source": [
    "# Check if U,B,V,R,I version of the same curve with noice is different\n",
    "print(np.array_equal(X_train_with_arrays_noise[0][0], X_train_with_arrays_noise[1][0]))\n",
    "print(np.array_equal(X_train_with_arrays_noise[1][0], X_train_with_arrays_noise[2][0]))\n",
    "print(np.array_equal(X_train_with_arrays_noise[2][0], X_train_with_arrays_noise[3][0]))\n",
    "print(np.array_equal(X_train_with_arrays_noise[3][0], X_train_with_arrays_noise[4][0]))"
   ]
  },
  {
   "cell_type": "code",
   "execution_count": 22,
   "metadata": {},
   "outputs": [
    {
     "name": "stdout",
     "output_type": "stream",
     "text": [
      "[1 0 1 ... 0 1 1]\n",
      "True\n",
      "True\n"
     ]
    }
   ],
   "source": [
    "# target is overcontact\n",
    "target = np.array(y_train)\n",
    "print(target)\n",
    "\n",
    "# just to be sure that both types are in dataset\n",
    "exists = 0 in target\n",
    "print(exists)\n",
    "exists = 1 in target\n",
    "print(exists)"
   ]
  },
  {
   "cell_type": "markdown",
   "metadata": {},
   "source": [
    "> Control the shape and check if the dataset is imbalanced (ale nacital som si z oboch 10 000 cize viem ze by mal byt vyvazeny)"
   ]
  },
  {
   "cell_type": "code",
   "execution_count": 23,
   "metadata": {},
   "outputs": [
    {
     "name": "stdout",
     "output_type": "stream",
     "text": [
      "(21482,)\n",
      "(21482, 400, 1)\n",
      "(21482, 400, 1)\n",
      "(21482, 400, 1)\n",
      "(21482, 400, 1)\n",
      "(21482, 400, 1)\n",
      "Counter({1: 16012, 0: 5470})\n"
     ]
    }
   ],
   "source": [
    "print(target.shape)\n",
    "\n",
    "print(X_train_with_arrays_noise[0][0].shape)\n",
    "print(X_train_with_arrays_noise[1][0].shape)\n",
    "print(X_train_with_arrays_noise[2][0].shape)\n",
    "print(X_train_with_arrays_noise[3][0].shape)\n",
    "print(X_train_with_arrays_noise[4][0].shape)\n",
    "\n",
    "print(Counter(target))"
   ]
  },
  {
   "cell_type": "markdown",
   "metadata": {},
   "source": [
    "    - fit and apply the transform"
   ]
  },
  {
   "cell_type": "code",
   "execution_count": 24,
   "metadata": {},
   "outputs": [],
   "source": [
    "def print_shape_counter(column, target):\n",
    "    print(column.shape)\n",
    "    print(target.shape)\n",
    "    print(Counter(target))"
   ]
  },
  {
   "cell_type": "code",
   "execution_count": 25,
   "metadata": {},
   "outputs": [
    {
     "name": "stdout",
     "output_type": "stream",
     "text": [
      "(21482, 400, 1)\n",
      "(21482,)\n",
      "Counter({1: 16012, 0: 5470})\n",
      "\n",
      "(21482, 400, 1)\n",
      "(21482,)\n",
      "Counter({1: 16012, 0: 5470})\n",
      "\n",
      "(21482, 400, 1)\n",
      "(21482,)\n",
      "Counter({1: 16012, 0: 5470})\n",
      "\n",
      "(21482, 400, 1)\n",
      "(21482,)\n",
      "Counter({1: 16012, 0: 5470})\n",
      "\n",
      "(21482, 400, 1)\n",
      "(21482,)\n",
      "Counter({1: 16012, 0: 5470})\n",
      "\n"
     ]
    }
   ],
   "source": [
    "for i in range(5):\n",
    "    print_shape_counter(X_train_with_arrays_noise[i][0], y_train)\n",
    "    print(\"\")"
   ]
  },
  {
   "cell_type": "code",
   "execution_count": 26,
   "metadata": {},
   "outputs": [
    {
     "data": {
      "text/plain": [
       "array([[0., 1.],\n",
       "       [1., 0.],\n",
       "       [0., 1.],\n",
       "       ...,\n",
       "       [1., 0.],\n",
       "       [0., 1.],\n",
       "       [0., 1.]], dtype=float32)"
      ]
     },
     "execution_count": 26,
     "metadata": {},
     "output_type": "execute_result"
    }
   ],
   "source": [
    "# transform to categorical\n",
    "y_train = np_utils.to_categorical(y_train, 2)\n",
    "y_train"
   ]
  },
  {
   "cell_type": "code",
   "execution_count": 27,
   "metadata": {},
   "outputs": [
    {
     "name": "stdout",
     "output_type": "stream",
     "text": [
      "(5, 2, 21482, 400, 1)\n",
      "(21482, 2)\n",
      "[[0. 1.]\n",
      " [1. 0.]\n",
      " [0. 1.]\n",
      " ...\n",
      " [1. 0.]\n",
      " [0. 1.]\n",
      " [0. 1.]]\n"
     ]
    }
   ],
   "source": [
    "#Check shape \n",
    "print(np.array(X_train_with_arrays_noise).shape)\n",
    "print(y_train.shape)\n",
    "print((y_train))"
   ]
  },
  {
   "cell_type": "markdown",
   "metadata": {},
   "source": [
    "# Best model\n"
   ]
  },
  {
   "cell_type": "markdown",
   "metadata": {},
   "source": [
    "## experiment 6 -> biLSTM + CNN"
   ]
  },
  {
   "cell_type": "code",
   "execution_count": 28,
   "metadata": {},
   "outputs": [
    {
     "name": "stdout",
     "output_type": "stream",
     "text": [
      "Model: \"model\"\n",
      "__________________________________________________________________________________________________\n",
      " Layer (type)                   Output Shape         Param #     Connected to                     \n",
      "==================================================================================================\n",
      " input_1 (InputLayer)           [(None, 400, 1)]     0           []                               \n",
      "                                                                                                  \n",
      " conv1d (Conv1D)                (None, 398, 32)      128         ['input_1[0][0]']                \n",
      "                                                                                                  \n",
      " max_pooling1d (MaxPooling1D)   (None, 199, 32)      0           ['conv1d[0][0]']                 \n",
      "                                                                                                  \n",
      " conv1d_1 (Conv1D)              (None, 197, 32)      3104        ['max_pooling1d[0][0]']          \n",
      "                                                                                                  \n",
      " bidirectional (Bidirectional)  (None, 400, 128)     33792       ['input_1[0][0]']                \n",
      "                                                                                                  \n",
      " max_pooling1d_1 (MaxPooling1D)  (None, 98, 32)      0           ['conv1d_1[0][0]']               \n",
      "                                                                                                  \n",
      " flatten (Flatten)              (None, 51200)        0           ['bidirectional[0][0]']          \n",
      "                                                                                                  \n",
      " flatten_1 (Flatten)            (None, 3136)         0           ['max_pooling1d_1[0][0]']        \n",
      "                                                                                                  \n",
      " concatenate (Concatenate)      (None, 54336)        0           ['flatten[0][0]',                \n",
      "                                                                  'flatten_1[0][0]']              \n",
      "                                                                                                  \n",
      " dropout (Dropout)              (None, 54336)        0           ['concatenate[0][0]']            \n",
      "                                                                                                  \n",
      " dense (Dense)                  (None, 32)           1738784     ['dropout[0][0]']                \n",
      "                                                                                                  \n",
      " dense_1 (Dense)                (None, 2)            66          ['dense[0][0]']                  \n",
      "                                                                                                  \n",
      "==================================================================================================\n",
      "Total params: 1,775,874\n",
      "Trainable params: 1,775,874\n",
      "Non-trainable params: 0\n",
      "__________________________________________________________________________________________________\n",
      "None\n"
     ]
    }
   ],
   "source": [
    "inputs = Input(shape=(400,1))\n",
    "\n",
    "a = Bidirectional(LSTM(64, return_sequences=True,dropout=0.1,recurrent_dropout=0.1))(inputs)\n",
    "a = Flatten()(a)\n",
    "\n",
    "b = Conv1D(32, kernel_size = 3, padding = \"valid\", input_shape=(400,1))(inputs)\n",
    "b = MaxPooling1D(2)(b)\n",
    "b = Conv1D(32, kernel_size = 3, padding = \"valid\")(b)\n",
    "b = MaxPooling1D(2)(b)\n",
    "b = Flatten()(b)\n",
    "\n",
    "x = concatenate([a,b])\n",
    "x = Dropout(0.2)(x)\n",
    "x = Dense(32, activation='relu')(x)\n",
    "\n",
    "output = Dense(2, activation='softmax')(x)\n",
    "classifier = Model(inputs=inputs, outputs=output)\n",
    "classifier.compile(loss='categorical_crossentropy', optimizer='adam', metrics=['acc'])\n",
    "print(classifier.summary())"
   ]
  },
  {
   "cell_type": "markdown",
   "metadata": {},
   "source": [
    "## experiment 6"
   ]
  },
  {
   "cell_type": "code",
   "execution_count": 28,
   "metadata": {},
   "outputs": [],
   "source": [
    "saved_model = \"model_experiment_6.hdf5\"\n",
    "checkpoint = ModelCheckpoint(saved_model, monitor='val_loss', verbose=1, save_best_only=True, mode='min')\n",
    "early = EarlyStopping(monitor=\"val_loss\", mode=\"min\", patience=3)\n",
    "callbacks_list = [checkpoint, early]"
   ]
  },
  {
   "cell_type": "code",
   "execution_count": 29,
   "metadata": {},
   "outputs": [],
   "source": [
    "x_train = np.concatenate((X_train_with_arrays_noise[0][0],\n",
    "                          X_train_with_arrays_noise[1][0], \n",
    "                          X_train_with_arrays_noise[2][0], \n",
    "                          X_train_with_arrays_noise[3][0],\n",
    "                          X_train_with_arrays_noise[4][0])) "
   ]
  },
  {
   "cell_type": "code",
   "execution_count": 30,
   "metadata": {},
   "outputs": [],
   "source": [
    "y_train_mixed = np.concatenate((y_train,\n",
    "                                y_train, \n",
    "                                y_train, \n",
    "                                y_train,\n",
    "                                y_train)) "
   ]
  },
  {
   "cell_type": "code",
   "execution_count": 31,
   "metadata": {},
   "outputs": [
    {
     "name": "stdout",
     "output_type": "stream",
     "text": [
      "Epoch 1/10\n",
      "672/672 [==============================] - ETA: 0s - loss: 0.4478 - acc: 0.7679\n",
      "Epoch 00001: val_loss improved from inf to 0.31522, saving model to model_experiment_6.hdf5\n",
      "672/672 [==============================] - 658s 964ms/step - loss: 0.4478 - acc: 0.7679 - val_loss: 0.3152 - val_acc: 0.7958\n",
      "Epoch 2/10\n",
      "672/672 [==============================] - ETA: 0s - loss: 0.2993 - acc: 0.8345\n",
      "Epoch 00002: val_loss improved from 0.31522 to 0.27930, saving model to model_experiment_6.hdf5\n",
      "672/672 [==============================] - 648s 965ms/step - loss: 0.2993 - acc: 0.8345 - val_loss: 0.2793 - val_acc: 0.8435\n",
      "Epoch 3/10\n",
      "672/672 [==============================] - ETA: 0s - loss: 0.2189 - acc: 0.8864\n",
      "Epoch 00003: val_loss improved from 0.27930 to 0.16345, saving model to model_experiment_6.hdf5\n",
      "672/672 [==============================] - 367s 546ms/step - loss: 0.2189 - acc: 0.8864 - val_loss: 0.1634 - val_acc: 0.9196\n",
      "Epoch 4/10\n",
      "672/672 [==============================] - ETA: 0s - loss: 0.1518 - acc: 0.9228\n",
      "Epoch 00004: val_loss improved from 0.16345 to 0.14632, saving model to model_experiment_6.hdf5\n",
      "672/672 [==============================] - 281s 418ms/step - loss: 0.1518 - acc: 0.9228 - val_loss: 0.1463 - val_acc: 0.9219\n",
      "Epoch 5/10\n",
      "672/672 [==============================] - ETA: 0s - loss: 0.1281 - acc: 0.9325\n",
      "Epoch 00005: val_loss improved from 0.14632 to 0.12442, saving model to model_experiment_6.hdf5\n",
      "672/672 [==============================] - 293s 436ms/step - loss: 0.1281 - acc: 0.9325 - val_loss: 0.1244 - val_acc: 0.9335\n",
      "Epoch 6/10\n",
      "672/672 [==============================] - ETA: 0s - loss: 0.1178 - acc: 0.9365\n",
      "Epoch 00006: val_loss improved from 0.12442 to 0.10883, saving model to model_experiment_6.hdf5\n",
      "672/672 [==============================] - 294s 438ms/step - loss: 0.1178 - acc: 0.9365 - val_loss: 0.1088 - val_acc: 0.9490\n",
      "Epoch 7/10\n",
      "672/672 [==============================] - ETA: 0s - loss: 0.1114 - acc: 0.9386\n",
      "Epoch 00007: val_loss improved from 0.10883 to 0.10202, saving model to model_experiment_6.hdf5\n",
      "672/672 [==============================] - 351s 523ms/step - loss: 0.1114 - acc: 0.9386 - val_loss: 0.1020 - val_acc: 0.9528\n",
      "Epoch 8/10\n",
      "672/672 [==============================] - ETA: 0s - loss: 0.1070 - acc: 0.9406\n",
      "Epoch 00008: val_loss did not improve from 0.10202\n",
      "672/672 [==============================] - 459s 683ms/step - loss: 0.1070 - acc: 0.9406 - val_loss: 0.1035 - val_acc: 0.9484\n",
      "Epoch 9/10\n",
      "672/672 [==============================] - ETA: 0s - loss: 0.1009 - acc: 0.9453\n",
      "Epoch 00009: val_loss improved from 0.10202 to 0.09338, saving model to model_experiment_6.hdf5\n",
      "672/672 [==============================] - 459s 683ms/step - loss: 0.1009 - acc: 0.9453 - val_loss: 0.0934 - val_acc: 0.9507\n",
      "Epoch 10/10\n",
      "672/672 [==============================] - ETA: 0s - loss: 0.1051 - acc: 0.9421\n",
      "Epoch 00010: val_loss did not improve from 0.09338\n",
      "672/672 [==============================] - 335s 499ms/step - loss: 0.1051 - acc: 0.9421 - val_loss: 0.0957 - val_acc: 0.9568\n"
     ]
    }
   ],
   "source": [
    "history = classifier.fit(x_train, y_train_mixed, validation_split=0.2, epochs=10, batch_size=128, verbose=1, callbacks = callbacks_list)"
   ]
  },
  {
   "cell_type": "code",
   "execution_count": 32,
   "metadata": {},
   "outputs": [],
   "source": [
    "# Define function for plot loss and accuracy during training\n",
    "def trainingLoss(history):\n",
    "    plt.style.use('ggplot')\n",
    "    plt.plot(history.history['acc'])\n",
    "    plt.plot(history.history['val_acc'])\n",
    "    plt.title('')\n",
    "    plt.ylabel('Accuracy')\n",
    "    plt.xlabel('Epochs')\n",
    "    plt.legend(['train', 'validation'], loc='upper left')\n",
    "    plt.savefig('tarin1.png', bbox_inches='tight')\n",
    "    plt.show()\n",
    "    plt.style.use('ggplot')\n",
    "    plt.plot(history.history['loss'])\n",
    "    plt.plot(history.history['val_loss'])\n",
    "    plt.title('')\n",
    "    plt.ylabel('Loss')\n",
    "    plt.xlabel('Epochs')\n",
    "    plt.legend(['train', 'validation'], loc='upper left')\n",
    "    plt.savefig('tarin2.png', )\n",
    "    plt.show()"
   ]
  },
  {
   "cell_type": "markdown",
   "metadata": {},
   "source": [
    "Plot training graphs"
   ]
  },
  {
   "cell_type": "code",
   "execution_count": 62,
   "metadata": {},
   "outputs": [
    {
     "data": {
      "image/png": "[encoded data removed]",
      "text/plain": [
       "<Figure size 432x288 with 1 Axes>"
      ]
     },
     "metadata": {},
     "output_type": "display_data"
    },
    {
     "data": {
      "image/png": "[encoded data removed]",
      "text/plain": [
       "<Figure size 432x288 with 1 Axes>"
      ]
     },
     "metadata": {},
     "output_type": "display_data"
    }
   ],
   "source": [
    "trainingLoss(history)"
   ]
  },
  {
   "cell_type": "markdown",
   "metadata": {},
   "source": [
    "# Model experiment 6 evaluation"
   ]
  },
  {
   "cell_type": "code",
   "execution_count": 30,
   "metadata": {},
   "outputs": [],
   "source": [
    "def evaluate_all(model_path, input_data, y_test):\n",
    "    classifier = load_model(model_path)\n",
    "    # y_pred returns probability of detached and overcontact \n",
    "    # for example [1.4059671e-04, 9.9985933e-01], \n",
    "    # means detached with prob. 0.0001405  and overcontact with prob 0.998\n",
    "    y_pred = classifier.predict(input_data)\n",
    "    # print(y_pred)\n",
    "    \n",
    "    # for example [1.4059671e-04, 9.9985933e-01] -> [0, 1], it is marked as detached \n",
    "    y_pred2 = np.where(y_pred > 0.5, 1, 0)\n",
    "    \n",
    "    # test data [0,1,...] is converted to categorical [[0,1],[1,0]]\n",
    "    target_test = np.array(y_test)\n",
    "    target_test = np_utils.to_categorical(target_test, 2)\n",
    "    \n",
    "    # confusion matrix -old \n",
    "    # cm = confusion_matrix(target_test.argmax(axis=1), y_pred2.argmax(axis=1))\n",
    "    # print(\"Confusion matrix: \\n\" + str(cm))\n",
    "    \n",
    "    # confusion matrix - nice print \n",
    "    matrix=skplt.metrics.plot_confusion_matrix(target_test.argmax(axis=1), y_pred2.argmax(axis=1))\n",
    "    matrix.xaxis.set_ticklabels(['single spotty', 'overcontact + detached'])\n",
    "    matrix.yaxis.set_ticklabels(['single spotty', 'overcontact'])\n",
    "    matrix\n",
    "    \n",
    "    target_names= ['single spotty', 'overcontact']\n",
    "    print(\"Classification report: \\n\" + classification_report(target_test.argmax(axis=1), y_pred2.argmax(axis=1),target_names=target_names))\n",
    "\n",
    "    # from categorical [0, 1] -> 1\n",
    "    y_true = target_test.argmax(axis=1)\n",
    "    \n",
    "    skplt.metrics.plot_roc(y_true, y_pred)\n",
    "    plt.savefig('roc_auc.png')\n",
    "    plt.show()\n",
    "    \n",
    "    input_data = np.array(input_data)\n",
    "    \n",
    "    \n",
    "    limit_plot=0\n",
    "    for j in range(len(y_pred2)): \n",
    "        if (y_pred2[j].argmax(axis=0) == 1) and (target_test[j].argmax(axis=0) == 0):\n",
    "            if input_data.ndim == 4:\n",
    "                plt.plot(input_data[0][j],label = str(y_test.iloc[[j]].index[0]) + \", \" +str(y_test.iloc[[j]].values[0]))\n",
    "                fig1 = plt.figure(1)\n",
    "                fig1.text(0.45, 0.9, \"single spotty 0\", ha=\"center\", va=\"bottom\", color=\"green\")\n",
    "                fig1.text(0.53, 0.9, \"/\", ha=\"center\", va=\"bottom\",  color=\"black\")\n",
    "                fig1.text(0.62, 0.9, \"overcontact 1\", ha=\"center\", va=\"bottom\",  color=\"red\")\n",
    "                limit_plot=limit_plot+1\n",
    "            else:\n",
    "                plt.plot(input_data[j],label = str(y_test.iloc[[j]].index[0]) + \", \" +str(y_test.iloc[[j]].values[0]))\n",
    "                fig1 = plt.figure(1)\n",
    "                fig1.text(0.45, 0.9, \"single spotty 0\", ha=\"center\", va=\"bottom\" ,color=\"green\")\n",
    "                fig1.text(0.53, 0.9, \"/\", ha=\"center\", va=\"bottom\",  color=\"black\")\n",
    "                fig1.text(0.62,0.9, \"overcontact 1\", ha=\"center\", va=\"bottom\",  color=\"red\")\n",
    "                limit_plot=limit_plot+1\n",
    "            if limit_plot == 2:\n",
    "                break \n",
    "\n",
    "    \n",
    "    plt.legend(loc='upper right')       \n",
    "    plt.savefig('image.png')\n",
    "    plt.show()     \n",
    "\n",
    "\n",
    "    limit_plot2=0\n",
    "    for j in range(len(y_pred2)): \n",
    "        if (y_pred2[j].argmax(axis=0) == 0) and (target_test[j].argmax(axis=0) == 1):\n",
    "            if input_data.ndim == 4:\n",
    "                plt.plot(input_data[0][j],label = str(y_test.iloc[[j]].index[0]) + \", \" +str(y_test.iloc[[j]].values[0]))\n",
    "                fig1 = plt.figure(1)\n",
    "                fig1.text(0.45, 0.9, \"single spotty 0\", ha=\"center\", va=\"bottom\", color=\"red\")\n",
    "                fig1.text(0.53, 0.9, \"/\", ha=\"center\", va=\"bottom\",  color=\"black\")\n",
    "                fig1.text(0.62, 0.9, \"overcontact 1\", ha=\"center\", va=\"bottom\",  color=\"green\")\n",
    "                limit_plot2=limit_plot2+1\n",
    "                \n",
    "            else:\n",
    "                plt.plot(input_data[j],label = str(y_test.iloc[[j]].index[0]) + \", \" +str(y_test.iloc[[j]].values[0]))\n",
    "                fig1 = plt.figure(1)\n",
    "                fig1.text(0.45, 0.9, \"single spotty 0\", ha=\"center\", va=\"bottom\", color=\"red\")\n",
    "                fig1.text(0.53, 0.9, \"/\", ha=\"center\", va=\"bottom\",  color=\"black\")\n",
    "                fig1.text(0.62, 0.9, \"overcontact 1\", ha=\"center\", va=\"bottom\",  color=\"green\")\n",
    "                limit_plot2=limit_plot2+1\n",
    "            if limit_plot2 == 2:\n",
    "                break \n",
    "    \n",
    "    plt.legend(loc='upper right')       \n",
    "    plt.savefig('image2.png')\n",
    "    plt.show()"
   ]
  },
  {
   "cell_type": "code",
   "execution_count": 31,
   "metadata": {},
   "outputs": [
    {
     "name": "stdout",
     "output_type": "stream",
     "text": [
      "(26855,)\n",
      "(26855, 400, 1)\n",
      "Classification report: \n",
      "              precision    recall  f1-score   support\n",
      "\n",
      "           0       0.79      0.98      0.88      6915\n",
      "           1       0.99      0.91      0.95     19940\n",
      "\n",
      "    accuracy                           0.93     26855\n",
      "   macro avg       0.89      0.94      0.91     26855\n",
      "weighted avg       0.94      0.93      0.93     26855\n",
      "\n"
     ]
    },
    {
     "data": {
      "image/png": "[encoded data removed]",
      "text/plain": [
       "<Figure size 432x288 with 2 Axes>"
      ]
     },
     "metadata": {
      "needs_background": "light"
     },
     "output_type": "display_data"
    },
    {
     "data": {
      "image/png": "[encoded data removed]",
      "text/plain": [
       "<Figure size 432x288 with 1 Axes>"
      ]
     },
     "metadata": {
      "needs_background": "light"
     },
     "output_type": "display_data"
    },
    {
     "data": {
      "image/png": "[encoded data removed]",
      "text/plain": [
       "<Figure size 432x288 with 1 Axes>"
      ]
     },
     "metadata": {
      "needs_background": "light"
     },
     "output_type": "display_data"
    },
    {
     "data": {
      "image/png": "[encoded data removed]",
      "text/plain": [
       "<Figure size 432x288 with 1 Axes>"
      ]
     },
     "metadata": {
      "needs_background": "light"
     },
     "output_type": "display_data"
    }
   ],
   "source": [
    "processed_test_data= np.concatenate((\n",
    " X_test_with_arrays_noise[0][0],\n",
    " X_test_with_arrays_noise[1][0],\n",
    " X_test_with_arrays_noise[2][0],\n",
    " X_test_with_arrays_noise[3][0],\n",
    " X_test_with_arrays_noise[4][0]))\n",
    "\n",
    "y_test_mixed = pd.concat([y_test,\n",
    "                            y_test, \n",
    "                            y_test, \n",
    "                            y_test,\n",
    "                            y_test]) \n",
    "print(y_test_mixed.shape)\n",
    "print(processed_test_data.shape)\n",
    "\n",
    "evaluate_all('model_experiment_6.hdf5', processed_test_data, y_test_mixed)"
   ]
  },
  {
   "cell_type": "code",
   "execution_count": null,
   "metadata": {},
   "outputs": [],
   "source": []
  },
  {
   "cell_type": "code",
   "execution_count": null,
   "metadata": {},
   "outputs": [],
   "source": []
  }
 ],
 "metadata": {
  "kernelspec": {
   "display_name": "Python 3",
   "language": "python",
   "name": "python3"
  },
  "language_info": {
   "codemirror_mode": {
    "name": "ipython",
    "version": 3
   },
   "file_extension": ".py",
   "mimetype": "text/x-python",
   "name": "python",
   "nbconvert_exporter": "python",
   "pygments_lexer": "ipython3",
   "version": "3.8.6"
  }
 },
 "nbformat": 4,
 "nbformat_minor": 4
}
